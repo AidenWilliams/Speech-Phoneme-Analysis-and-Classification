{
 "cells": [
  {
   "cell_type": "markdown",
   "source": [
    "# Point Processing (Tutorial 1)\n",
    "***\n",
    "# Table of Contents\n",
    "1.   [Introduction](#Introduction)\n",
    "2.   [Imports](#Imports)\n",
    "3.   [Data Processing and Visualisation](#Data-Processing-and-Visualisation)\n",
    "4.   [Model Creation and Investigation](#Model-Creation-and-Investigation)"
   ],
   "metadata": {
    "collapsed": false,
    "pycharm": {
     "name": "#%% md\n"
    }
   }
  },
  {
   "cell_type": "markdown",
   "source": [
    "# Introduction\n",
    "\n",
    "This notebook is the coding part of the assignment. I go over what I did and how in small notes. A detailed methodology\n",
    "will be found in the report pdf."
   ],
   "metadata": {
    "collapsed": false
   }
  },
  {
   "cell_type": "markdown",
   "source": [
    "# Imports\n",
    "\n",
    "5 libraries are needed for this project:\n",
    "* itertools - For confusion matrix plotting\n",
    "* numpy - Efficient data arrays\n",
    "* pandas - Loading data\n",
    "* matplotlib - Visualisation\n",
    "* sklearn - Provides functionality for model creation and investigation"
   ],
   "metadata": {
    "collapsed": false
   }
  },
  {
   "cell_type": "code",
   "execution_count": 1,
   "outputs": [],
   "source": [
    "import itertools\n",
    "import numpy as np\n",
    "import pandas as pd\n",
    "import matplotlib.gridspec as gridspec\n",
    "import matplotlib.pyplot as plt\n",
    "from sklearn.model_selection import train_test_split\n",
    "from sklearn.neighbors import KNeighborsClassifier\n",
    "from sklearn.metrics import accuracy_score, fbeta_score, precision_score, recall_score, make_scorer, confusion_matrix\n",
    "from sklearn.model_selection import GridSearchCV\n",
    "from sklearn.utils import shuffle"
   ],
   "metadata": {
    "collapsed": false,
    "pycharm": {
     "name": "#%%\n"
    }
   }
  },
  {
   "cell_type": "markdown",
   "source": [
    "# Data Processing and Visualisation\n",
    "\n",
    "In this section I collect the data from the csv file, do some processing and visualize it. I collected this data so I\n",
    "will be noting my expectations in a md cell above the code cells. Any observations I will make like interpreting a graph,\n",
    "I will write in a md cell after code cell."
   ],
   "metadata": {
    "collapsed": false,
    "pycharm": {
     "name": "#%% md\n"
    }
   }
  },
  {
   "cell_type": "markdown",
   "source": [
    "Here I read the csv file into ```dataset``` using the pandas library. This will give me a Dataframe object which I fin very\n",
    "useful for ML and/or big data applications. Even though this dataset is not very big I can still utilize its features.\n",
    "\n",
    "After reading in the data I shuffle it and print some statistics. The row count should be 150 and column count should\n",
    "be 8.\n",
    "\n",
    "By using ```dataset.head()``` I can confirm that the dataset is in fact shuffled."
   ],
   "metadata": {
    "collapsed": false,
    "pycharm": {
     "name": "#%% md\n"
    }
   }
  },
  {
   "cell_type": "code",
   "execution_count": 2,
   "outputs": [
    {
     "name": "stdout",
     "output_type": "stream",
     "text": [
      "Row Count:  150\n",
      "Column Count:  8\n"
     ]
    },
    {
     "data": {
      "text/plain": "   Speaker Gender  Word Phoneme      Time    Formant1     Formant2  \\\n68  dab001      F  head      EH  4.454068  569.811605  2268.997204   \n66  dab001      F  heed      IY  2.254068  135.925824  2587.081678   \n18  apd001      M  heed      IY  0.995162  277.246761  2234.782073   \n50  bxp001      M  head      EH  2.660266  610.595504  2032.723352   \n38  ejr001      F  head      EH  1.853151  480.849619  2315.180343   \n\n       Formant3  \n68  2840.032806  \n66  3058.836489  \n18  2829.515803  \n50  2509.774055  \n38  2999.382809  ",
      "text/html": "<div>\n<style scoped>\n    .dataframe tbody tr th:only-of-type {\n        vertical-align: middle;\n    }\n\n    .dataframe tbody tr th {\n        vertical-align: top;\n    }\n\n    .dataframe thead th {\n        text-align: right;\n    }\n</style>\n<table border=\"1\" class=\"dataframe\">\n  <thead>\n    <tr style=\"text-align: right;\">\n      <th></th>\n      <th>Speaker</th>\n      <th>Gender</th>\n      <th>Word</th>\n      <th>Phoneme</th>\n      <th>Time</th>\n      <th>Formant1</th>\n      <th>Formant2</th>\n      <th>Formant3</th>\n    </tr>\n  </thead>\n  <tbody>\n    <tr>\n      <th>68</th>\n      <td>dab001</td>\n      <td>F</td>\n      <td>head</td>\n      <td>EH</td>\n      <td>4.454068</td>\n      <td>569.811605</td>\n      <td>2268.997204</td>\n      <td>2840.032806</td>\n    </tr>\n    <tr>\n      <th>66</th>\n      <td>dab001</td>\n      <td>F</td>\n      <td>heed</td>\n      <td>IY</td>\n      <td>2.254068</td>\n      <td>135.925824</td>\n      <td>2587.081678</td>\n      <td>3058.836489</td>\n    </tr>\n    <tr>\n      <th>18</th>\n      <td>apd001</td>\n      <td>M</td>\n      <td>heed</td>\n      <td>IY</td>\n      <td>0.995162</td>\n      <td>277.246761</td>\n      <td>2234.782073</td>\n      <td>2829.515803</td>\n    </tr>\n    <tr>\n      <th>50</th>\n      <td>bxp001</td>\n      <td>M</td>\n      <td>head</td>\n      <td>EH</td>\n      <td>2.660266</td>\n      <td>610.595504</td>\n      <td>2032.723352</td>\n      <td>2509.774055</td>\n    </tr>\n    <tr>\n      <th>38</th>\n      <td>ejr001</td>\n      <td>F</td>\n      <td>head</td>\n      <td>EH</td>\n      <td>1.853151</td>\n      <td>480.849619</td>\n      <td>2315.180343</td>\n      <td>2999.382809</td>\n    </tr>\n  </tbody>\n</table>\n</div>"
     },
     "execution_count": 2,
     "metadata": {},
     "output_type": "execute_result"
    }
   ],
   "source": [
    "dataset = pd.read_csv(\"Data Collection.csv\")\n",
    "dataset = shuffle(dataset)\n",
    "\n",
    "rows = list(dataset.axes[0])\n",
    "columns = list(dataset.axes[1])\n",
    "print('Row Count: ', len(rows))\n",
    "print('Column Count: ', len(columns))\n",
    "\n",
    "dataset.head()"
   ],
   "metadata": {
    "collapsed": false,
    "pycharm": {
     "name": "#%%\n"
    }
   }
  },
  {
   "cell_type": "markdown",
   "source": [
    "Now I check for any null values in the dataset. I expect no null values."
   ],
   "metadata": {
    "collapsed": false,
    "pycharm": {
     "name": "#%% md\n"
    }
   }
  },
  {
   "cell_type": "code",
   "execution_count": 3,
   "outputs": [
    {
     "name": "stdout",
     "output_type": "stream",
     "text": [
      "Total Null values count:  0\n",
      "Total values in dataframe:  1200\n",
      "Percentage of null values:  0.0\n"
     ]
    }
   ],
   "source": [
    "null_count = dataset.isnull().sum().sum()\n",
    "print(\"Total Null values count: \", null_count)\n",
    "\n",
    "dataset_size = len(rows)* len(columns)\n",
    "print(\"Total values in dataframe: \", dataset_size)\n",
    "\n",
    "print(\"Percentage of null values: \", (null_count / dataset_size) * 100)"
   ],
   "metadata": {
    "collapsed": false,
    "pycharm": {
     "name": "#%%\n"
    }
   }
  },
  {
   "cell_type": "markdown",
   "source": [
    "Before proceeding continuing with processing the data, I visualize all the features except Speaker and Time since I will\n",
    "not be using these features for my Knn model. For the pie charts I visualise the Word feature so that I prove that I did\n",
    "not distinguish the actual phoneme while doing data collection but assigned each word a phoneme and collected data in that\n",
    "manner."
   ],
   "metadata": {
    "collapsed": false,
    "pycharm": {
     "name": "#%% md\n"
    }
   }
  },
  {
   "cell_type": "code",
   "execution_count": 4,
   "outputs": [
    {
     "data": {
      "text/plain": "<Figure size 792x432 with 3 Axes>",
      "image/png": "[encoded data removed]"
     },
     "metadata": {
      "needs_background": "light"
     },
     "output_type": "display_data"
    }
   ],
   "source": [
    "# Create figure\n",
    "fig = plt.figure(figsize=(11, 6))\n",
    "gs = gridspec.GridSpec(1, 3)\n",
    "# Skewed feature plotting\n",
    "for i, feature in enumerate(['Formant1', 'Formant2', 'Formant3']):\n",
    "    ax = plt.subplot(gs[0, i])\n",
    "    ax.hist(dataset[feature], bins=25, color='#00A0A0')\n",
    "    ax.set_title(feature)\n",
    "    ax.set_xlabel(\"Value\")\n",
    "    ax.set_ylabel(\"Number of Records\")\n",
    "    ax.set_ylim((0, 40))\n",
    "    ax.set_yticks([0, 10, 20, 30, 40])\n",
    "\n",
    "# Plot aesthetics\n",
    "fig.suptitle(\"Distributions of Formants\", fontsize=16, y=1.03)\n",
    "fig.savefig('Formant Histograms.png')"
   ],
   "metadata": {
    "collapsed": false,
    "pycharm": {
     "name": "#%%\n"
    }
   }
  },
  {
   "cell_type": "markdown",
   "source": [
    "From these 3 histograms I can gather that Formants 2 and 3 are more distributed than Formant 1. I think this will affect\n",
    "the predictive accuracy of the model because if Formants 2 and 3 where less distributed the distance between each node\n",
    "would be smaller."
   ],
   "metadata": {
    "collapsed": false,
    "pycharm": {
     "name": "#%% md\n"
    }
   }
  },
  {
   "cell_type": "markdown",
   "source": [
    "Now I plot the distribution of Gender, Word and Phoneme as pie charts. The Gender pie chart should be equally split,\n",
    "while the other 2 should be split in 3 equal parts."
   ],
   "metadata": {
    "collapsed": false,
    "pycharm": {
     "name": "#%% md\n"
    }
   }
  },
  {
   "cell_type": "code",
   "execution_count": 5,
   "outputs": [
    {
     "data": {
      "text/plain": "<Figure size 432x288 with 1 Axes>",
      "image/png": "[encoded data removed]"
     },
     "metadata": {},
     "output_type": "display_data"
    },
    {
     "data": {
      "text/plain": "<Figure size 432x288 with 1 Axes>",
      "image/png": "[encoded data removed]"
     },
     "metadata": {},
     "output_type": "display_data"
    },
    {
     "data": {
      "text/plain": "<Figure size 432x288 with 1 Axes>",
      "image/png": "[encoded data removed]"
     },
     "metadata": {},
     "output_type": "display_data"
    }
   ],
   "source": [
    "def PieFeatureDistribution(df:pd.DataFrame, feature:str):\n",
    "    # Visualizing Activity Distribution\n",
    "    temp = df[feature].value_counts()\n",
    "    df = pd.DataFrame({'labels': temp.index,\n",
    "                       'values': temp.values\n",
    "                      })\n",
    "\n",
    "    labels = df['labels']\n",
    "    sizes = df['values']\n",
    "    patches, texts = plt.pie(sizes, shadow=True, startangle=90, pctdistance=1.1, labeldistance=1.2)\n",
    "    plt.legend(patches, labels, loc=\"best\")\n",
    "    plt.axis('equal')\n",
    "    plt.tight_layout()\n",
    "    plt.title(feature + \" Distribution\")\n",
    "    plt.savefig(feature + ' Distribution.png')\n",
    "    plt.show()\n",
    "\n",
    "PieFeatureDistribution(dataset, \"Gender\")\n",
    "PieFeatureDistribution(dataset, \"Word\")\n",
    "PieFeatureDistribution(dataset, \"Phoneme\")"
   ],
   "metadata": {
    "collapsed": false,
    "pycharm": {
     "name": "#%%\n"
    }
   }
  },
  {
   "cell_type": "markdown",
   "source": [
    "Here I define the encode values I will use for the categorical variables."
   ],
   "metadata": {
    "collapsed": false,
    "pycharm": {
     "name": "#%% md\n"
    }
   }
  },
  {
   "cell_type": "code",
   "execution_count": 6,
   "outputs": [],
   "source": [
    "phoneme_encode =    {\n",
    "                        \"IY\":0,\n",
    "                        \"IH\":1,\n",
    "                        \"EH\":2,\n",
    "                    }\n",
    "\n",
    "gender_encode = {\n",
    "                    \"F\": 0,\n",
    "                    \"M\": 1\n",
    "                }"
   ],
   "metadata": {
    "collapsed": false,
    "pycharm": {
     "name": "#%%\n"
    }
   }
  },
  {
   "cell_type": "markdown",
   "source": [
    "Now I encode the actual features."
   ],
   "metadata": {
    "collapsed": false,
    "pycharm": {
     "name": "#%% md\n"
    }
   }
  },
  {
   "cell_type": "code",
   "execution_count": 7,
   "outputs": [],
   "source": [
    "dataset['Gender'] = dataset['Gender'].map(gender_encode)\n",
    "dataset['Phoneme'] = dataset['Phoneme'].map(phoneme_encode)"
   ],
   "metadata": {
    "collapsed": false,
    "pycharm": {
     "name": "#%%\n"
    }
   }
  },
  {
   "cell_type": "markdown",
   "source": [
    "Before splitting the dataset I first separate the Phoneme feature from the main dataset then I drop the Speaker, Time, Word\n",
    "and Phoneme features from the dataset.\n",
    "\n",
    "I separate Phoneme so that it can be used as the 'Y' part for model predictions, i.e. its the answer that the model\n",
    "should predict."
   ],
   "metadata": {
    "collapsed": false,
    "pycharm": {
     "name": "#%% md\n"
    }
   }
  },
  {
   "cell_type": "code",
   "execution_count": 8,
   "outputs": [],
   "source": [
    "phoneme = dataset['Phoneme']\n",
    "dataset = pd.DataFrame(dataset.drop(['Speaker', 'Time', 'Phoneme', 'Word'],axis=1))"
   ],
   "metadata": {
    "collapsed": false,
    "pycharm": {
     "name": "#%%\n"
    }
   }
  },
  {
   "cell_type": "markdown",
   "source": [
    "Lastly I split the dataset into 4 variables using train_test_split. The 'train' variables contain data from the Formant\n",
    "features and Gender. While the 'test' variables have the train's corresponding phoneme value."
   ],
   "metadata": {
    "collapsed": false,
    "pycharm": {
     "name": "#%% md\n"
    }
   }
  },
  {
   "cell_type": "code",
   "execution_count": 9,
   "outputs": [],
   "source": [
    "X_train, X_test, y_train, y_test = train_test_split(dataset, phoneme, test_size=0.25, random_state=0)"
   ],
   "metadata": {
    "collapsed": false,
    "pycharm": {
     "name": "#%%\n"
    }
   }
  },
  {
   "cell_type": "markdown",
   "source": [
    "# Model Creation and Investigation\n",
    "\n",
    "In this section I initialise a KNN classifier and train it on the train dataset, then I get a number of metrics after on\n",
    "predicting the test set after using gridsearch to identify the best parameters."
   ],
   "metadata": {
    "collapsed": false,
    "pycharm": {
     "name": "#%% md\n"
    }
   }
  },
  {
   "cell_type": "markdown",
   "source": [
    "Initialise the KNN Classifier with default params, n_neighbors=5 and p=2."
   ],
   "metadata": {
    "collapsed": false,
    "pycharm": {
     "name": "#%% md\n"
    }
   }
  },
  {
   "cell_type": "code",
   "execution_count": 10,
   "outputs": [],
   "source": [
    "clf = KNeighborsClassifier()"
   ],
   "metadata": {
    "collapsed": false,
    "pycharm": {
     "name": "#%%\n"
    }
   }
  },
  {
   "cell_type": "markdown",
   "source": [
    "Define a number of different parameters and use gridsearch to identify the best parameters."
   ],
   "metadata": {
    "collapsed": false,
    "pycharm": {
     "name": "#%% md\n"
    }
   }
  },
  {
   "cell_type": "code",
   "execution_count": 11,
   "outputs": [
    {
     "name": "stdout",
     "output_type": "stream",
     "text": [
      "The parameters combination that would give best accuracy is : \n",
      "{'n_neighbors': 13, 'p': 1}\n"
     ]
    }
   ],
   "source": [
    "parameters =    {\n",
    "                \"n_neighbors\": list(range(1,30,1)),\n",
    "    # simply change p for 3 distance metrics\n",
    "    #https://scikit-learn.org/stable/modules/generated/sklearn.neighbors.DistanceMetric.html#sklearn.neighbors.DistanceMetric\n",
    "                \"p\": [1, 2, 3],\n",
    "                }\n",
    "\n",
    "scorer = make_scorer(fbeta_score, beta=0.5,average='weighted')\n",
    "grid_obj = GridSearchCV(clf, parameters, scoring=scorer)\n",
    "grid_fit = grid_obj.fit(X_train,y_train)\n",
    "\n",
    "print('The parameters combination that would give best accuracy is : ')\n",
    "print(grid_fit.best_params_)"
   ],
   "metadata": {
    "collapsed": false,
    "pycharm": {
     "name": "#%%\n"
    }
   }
  },
  {
   "cell_type": "markdown",
   "source": [
    "Set the best estimator to ```best_clf``` and fit the train set to ```clf```. ```best_clf``` already has its data fit\n",
    "from the last step.\n",
    "\n",
    "Then I get the predictions for both models."
   ],
   "metadata": {
    "collapsed": false
   }
  },
  {
   "cell_type": "code",
   "execution_count": 12,
   "outputs": [],
   "source": [
    "# Set the best estimator\n",
    "best_clf = grid_fit.best_estimator_\n",
    "clf.fit(X_train, y_train)\n",
    "# Make predictions using the unoptimized and optimized models\n",
    "predictions = clf.predict(X_test)\n",
    "best_predictions = best_clf.predict(X_test)"
   ],
   "metadata": {
    "collapsed": false,
    "pycharm": {
     "name": "#%%\n"
    }
   }
  },
  {
   "cell_type": "markdown",
   "source": [
    "Print the accuracy, fbeta, precision and recall scores for both models"
   ],
   "metadata": {
    "collapsed": false
   }
  },
  {
   "cell_type": "code",
   "execution_count": 13,
   "outputs": [
    {
     "name": "stdout",
     "output_type": "stream",
     "text": [
      "Unoptimized model\n",
      "------\n",
      "Accuracy score on the testing data: 0.7895\n",
      "F-score on the testing data: 0.7857\n",
      "Precision score on the testing data: 0.7853\n",
      "Recall score on the testing data: 0.7895\n",
      "\n",
      "Optimized Model\n",
      "------\n",
      "Final accuracy score on the testing data: 0.7895\n",
      "Final F-score on the testing data: 0.8080\n",
      "Final precision score on the testing data: 0.8175\n",
      "Final recall score on the testing data: 0.7895\n"
     ]
    }
   ],
   "source": [
    "print(\"Unoptimized model\\n------\")\n",
    "print(\"Accuracy score on the testing data: {:.4f}\".format(accuracy_score(y_test, predictions)))\n",
    "print(\"F-score on the testing data: {:.4f}\".format(fbeta_score(y_test, predictions, beta = 0.5,average='weighted')))\n",
    "print(\"Precision score on the testing data: {:.4f}\".format(precision_score(y_test, predictions, average='weighted')))\n",
    "print(\"Recall score on the testing data: {:.4f}\".format(recall_score(y_test, predictions, average='weighted')))\n",
    "print(\"\\nOptimized Model\\n------\")\n",
    "print(\"Final accuracy score on the testing data: {:.4f}\".format(accuracy_score(y_test, best_predictions)))\n",
    "print(\"Final F-score on the testing data: {:.4f}\".format(fbeta_score(y_test, best_predictions, beta = 0.5,average='weighted')))\n",
    "print(\"Final precision score on the testing data: {:.4f}\".format(precision_score(y_test, best_predictions, average='weighted')))\n",
    "print(\"Final recall score on the testing data: {:.4f}\".format(recall_score(y_test, best_predictions, average='weighted')))"
   ],
   "metadata": {
    "collapsed": false,
    "pycharm": {
     "name": "#%%\n"
    }
   }
  },
  {
   "cell_type": "markdown",
   "source": [
    "Here I change the plot_confusion_matrix from sklearn a little bit and then output it for the optimized model's predictions."
   ],
   "metadata": {
    "collapsed": false
   }
  },
  {
   "cell_type": "code",
   "execution_count": 14,
   "outputs": [
    {
     "data": {
      "text/plain": "<Figure size 432x288 with 2 Axes>",
      "image/png": "[encoded data removed]"
     },
     "metadata": {
      "needs_background": "light"
     },
     "output_type": "display_data"
    }
   ],
   "source": [
    "# https://sklearn.org/auto_examples/model_selection/plot_confusion_matrix.html\n",
    "def plot_confusion_matrix(cm, classes,\n",
    "                          normalize=False,\n",
    "                          title='Confusion matrix',\n",
    "                          cmap=plt.cm.Blues):\n",
    "    \"\"\"\n",
    "    This function prints and plots the confusion matrix.\n",
    "    Normalization can be applied by setting `normalize=True`.\n",
    "    \"\"\"\n",
    "    if normalize:\n",
    "        cm = cm.astype('float') / cm.sum(axis=1)[:, np.newaxis]\n",
    "\n",
    "    plt.imshow(cm, interpolation='nearest', cmap=cmap)\n",
    "    plt.title(title)\n",
    "    plt.colorbar()\n",
    "    tick_marks = np.arange(len(classes))\n",
    "    plt.xticks(tick_marks, classes, rotation=45)\n",
    "    plt.yticks(tick_marks, classes)\n",
    "\n",
    "    fmt = '.2f' if normalize else 'd'\n",
    "    thresh = cm.max() / 2.\n",
    "    for i, j in itertools.product(range(cm.shape[0]), range(cm.shape[1])):\n",
    "        plt.text(j, i, format(cm[i, j], fmt),\n",
    "                 horizontalalignment=\"center\",\n",
    "                 color=\"white\" if cm[i, j] > thresh else \"black\")\n",
    "\n",
    "    plt.tight_layout()\n",
    "    plt.ylabel('True label')\n",
    "    plt.xlabel('Predicted label')\n",
    "\n",
    "# Compute confusion matrix\n",
    "cnf_matrix = confusion_matrix(y_test, best_predictions)\n",
    "np.set_printoptions(precision=2)\n",
    "\n",
    "# Plot non-normalized confusion matrix\n",
    "plt.figure()\n",
    "plot_confusion_matrix(cnf_matrix, classes=phoneme_encode, normalize=True,title='Confusion matrix')\n",
    "plt.savefig('Model Confusion Matrix Full Dataset.png')\n"
   ],
   "metadata": {
    "collapsed": false,
    "pycharm": {
     "name": "#%%\n"
    }
   }
  },
  {
   "cell_type": "markdown",
   "source": [
    "The following steps are repetitions from above where I only use the Female data rows."
   ],
   "metadata": {
    "collapsed": false
   }
  },
  {
   "cell_type": "code",
   "execution_count": 15,
   "outputs": [],
   "source": [
    "dataset['Phoneme'] = phoneme\n",
    "dataset = dataset[dataset['Gender'] == 0]\n",
    "phoneme = dataset['Phoneme']\n",
    "dataset = pd.DataFrame(dataset.drop(['Phoneme'],axis=1))"
   ],
   "metadata": {
    "collapsed": false,
    "pycharm": {
     "name": "#%%\n"
    }
   }
  },
  {
   "cell_type": "code",
   "execution_count": 16,
   "outputs": [],
   "source": [
    "X_train, X_test, y_train, y_test = train_test_split(dataset, phoneme, test_size=0.25, random_state=0)"
   ],
   "metadata": {
    "collapsed": false,
    "pycharm": {
     "name": "#%%\n"
    }
   }
  },
  {
   "cell_type": "code",
   "execution_count": 17,
   "outputs": [
    {
     "name": "stdout",
     "output_type": "stream",
     "text": [
      "The parameters combination that would give best accuracy is : \n",
      "{'n_neighbors': 5, 'p': 1}\n",
      "\n",
      "Unoptimized model\n",
      "------\n",
      "Accuracy score on the testing data: 0.6316\n",
      "F-score on the testing data: 0.6291\n",
      "Precision score on the testing data: 0.6433\n",
      "Recall score on the testing data: 0.6316\n",
      "\n",
      "Optimized Model\n",
      "------\n",
      "Final accuracy score on the testing data: 0.6842\n",
      "Final F-score on the testing data: 0.7265\n",
      "Final precision score on the testing data: 0.7789\n",
      "Final recall score on the testing data: 0.6842\n"
     ]
    }
   ],
   "source": [
    "clf = KNeighborsClassifier()\n",
    "\n",
    "scorer = make_scorer(fbeta_score, beta=0.5,average='weighted')\n",
    "grid_obj = GridSearchCV(clf, parameters, scoring=scorer)\n",
    "grid_fit = grid_obj.fit(X_train,y_train)\n",
    "\n",
    "print('The parameters combination that would give best accuracy is : ')\n",
    "print(grid_fit.best_params_)\n",
    "print()\n",
    "# Get the estimator\n",
    "best_clf = grid_fit.best_estimator_\n",
    "clf.fit(X_train, y_train)\n",
    "# Make predictions using the unoptimized and model\n",
    "predictions = clf.predict(X_test)\n",
    "best_predictions = best_clf.predict(X_test)\n",
    "\n",
    "# Report the before-and-afterscores\n",
    "print(\"Unoptimized model\\n------\")\n",
    "print(\"Accuracy score on the testing data: {:.4f}\".format(accuracy_score(y_test, predictions)))\n",
    "print(\"F-score on the testing data: {:.4f}\".format(fbeta_score(y_test, predictions, beta = 0.5,average='weighted')))\n",
    "print(\"Precision score on the testing data: {:.4f}\".format(precision_score(y_test, predictions, average='weighted')))\n",
    "print(\"Recall score on the testing data: {:.4f}\".format(recall_score(y_test, predictions, average='weighted')))\n",
    "print(\"\\nOptimized Model\\n------\")\n",
    "print(\"Final accuracy score on the testing data: {:.4f}\".format(accuracy_score(y_test, best_predictions)))\n",
    "print(\"Final F-score on the testing data: {:.4f}\".format(fbeta_score(y_test, best_predictions, beta = 0.5,average='weighted')))\n",
    "print(\"Final precision score on the testing data: {:.4f}\".format(precision_score(y_test, best_predictions, average='weighted')))\n",
    "print(\"Final recall score on the testing data: {:.4f}\".format(recall_score(y_test, best_predictions, average='weighted')))"
   ],
   "metadata": {
    "collapsed": false,
    "pycharm": {
     "name": "#%%\n"
    }
   }
  },
  {
   "cell_type": "code",
   "execution_count": 18,
   "outputs": [
    {
     "data": {
      "text/plain": "<Figure size 432x288 with 2 Axes>",
      "image/png": "[encoded data removed]"
     },
     "metadata": {
      "needs_background": "light"
     },
     "output_type": "display_data"
    }
   ],
   "source": [
    "# Compute confusion matrix\n",
    "cnf_matrix = confusion_matrix(y_test, best_predictions)\n",
    "np.set_printoptions(precision=2)\n",
    "\n",
    "# Plot non-normalized confusion matrix\n",
    "plt.figure()\n",
    "plot_confusion_matrix(cnf_matrix, classes=phoneme_encode, normalize=True,title='Confusion matrix')\n",
    "plt.savefig('Model Confusion Matrix Female Dataset.png')\n",
    "\n"
   ],
   "metadata": {
    "collapsed": false,
    "pycharm": {
     "name": "#%%\n"
    }
   }
  }
 ],
 "metadata": {
  "kernelspec": {
   "display_name": "Python 3",
   "language": "python",
   "name": "python3"
  },
  "language_info": {
   "codemirror_mode": {
    "name": "ipython",
    "version": 2
   },
   "file_extension": ".py",
   "mimetype": "text/x-python",
   "name": "python",
   "nbconvert_exporter": "python",
   "pygments_lexer": "ipython2",
   "version": "2.7.6"
  }
 },
 "nbformat": 4,
 "nbformat_minor": 0
}